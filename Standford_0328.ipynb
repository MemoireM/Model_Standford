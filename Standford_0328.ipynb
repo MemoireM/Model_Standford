{
 "cells": [
  {
   "cell_type": "code",
   "execution_count": 1,
   "id": "133c9d23-8e76-4e1a-a6d3-41a7c61aa5a9",
   "metadata": {},
   "outputs": [
    {
     "ename": "SyntaxError",
     "evalue": "invalid character '’' (U+2019) (3782512404.py, line 2)",
     "output_type": "error",
     "traceback": [
      "\u001b[0;36m  Cell \u001b[0;32mIn[1], line 2\u001b[0;36m\u001b[0m\n\u001b[0;31m    la bibliothèque display pour voir l’exemple\u001b[0m\n\u001b[0m                                       ^\u001b[0m\n\u001b[0;31mSyntaxError\u001b[0m\u001b[0;31m:\u001b[0m invalid character '’' (U+2019)\n"
     ]
    }
   ],
   "source": [
    "Les codes donnés par les prof :\n",
    "la bibliothèque display pour voir l’exemple\n",
    "utiliser le tqdm pr enregistrer le temps"
   ]
  },
  {
   "cell_type": "code",
   "execution_count": 8,
   "id": "ae90f3e2-42f2-42a8-8b53-d0f755580e7f",
   "metadata": {},
   "outputs": [
    {
     "name": "stdout",
     "output_type": "stream",
     "text": [
      "Requirement already satisfied: nltk in /opt/anaconda3/lib/python3.12/site-packages (3.8.1)\n",
      "Requirement already satisfied: click in /opt/anaconda3/lib/python3.12/site-packages (from nltk) (8.1.7)\n",
      "Requirement already satisfied: joblib in /opt/anaconda3/lib/python3.12/site-packages (from nltk) (1.4.2)\n",
      "Requirement already satisfied: regex>=2021.8.3 in /opt/anaconda3/lib/python3.12/site-packages (from nltk) (2023.10.3)\n",
      "Requirement already satisfied: tqdm in /opt/anaconda3/lib/python3.12/site-packages (from nltk) (4.66.1)\n"
     ]
    }
   ],
   "source": [
    "!pip install nltk\n"
   ]
  },
  {
   "cell_type": "code",
   "execution_count": 10,
   "id": "1099ca0f-4296-4716-8472-bf7f7d0e1386",
   "metadata": {},
   "outputs": [
    {
     "name": "stdout",
     "output_type": "stream",
     "text": [
      "[('Barack', 'PERSON'), ('Obama', 'PERSON'), ('was', 'O'), ('born', 'O'), ('in', 'O'), ('Hawaii', 'LOCATION'), ('.', 'O'), ('He', 'O'), ('was', 'O'), ('the', 'O'), ('44th', 'O'), ('President', 'O'), ('of', 'O'), ('the', 'O'), ('United', 'LOCATION'), ('States', 'LOCATION'), ('.', 'O')]\n"
     ]
    }
   ],
   "source": [
    "import nltk\n",
    "from nltk.tag import StanfordNERTagger\n",
    "\n",
    "# Stanford NER 模型路径\n",
    "#stanford_classifier = \"stanford-ner-4.2.0/classifiers/english.all.3class.distsim.crf.ser.gz\"\n",
    "stanford_classifier = \"/Users/zhengruixing/Desktop/stanford-ner-2020-11-17/classifiers/english.all.3class.distsim.crf.ser.gz\"\n",
    "#stanford_classifier = \"/Users/zhengruixing/Desktop/stanford-ner-2020-11-17/classifiers/french-ner.ser.gz\"  # 法语模型\n",
    "stanford_ner_path =\"/Users/zhengruixing/Desktop/stanford-ner-2020-11-17/stanford-ner.jar\"\n",
    "\n",
    "\n",
    "# 创建 NER 标注器\n",
    "ner_tagger = StanfordNERTagger(stanford_classifier, stanford_ner_path, encoding='utf-8')\n",
    "\n",
    "# 示例文本\n",
    "text = \"Barack Obama was born in Hawaii. He was the 44th President of the United States.\"\n",
    "\n",
    "# 分词\n",
    "words = nltk.word_tokenize(text)\n",
    "\n",
    "# 进行 NER 标注\n",
    "ner_results = ner_tagger.tag(words)\n",
    "\n",
    "# 打印结果\n",
    "print(ner_results)\n"
   ]
  },
  {
   "cell_type": "code",
   "execution_count": 14,
   "id": "a1c8ea2e-d199-462c-8c35-988d0a4d151d",
   "metadata": {},
   "outputs": [
    {
     "name": "stdout",
     "output_type": "stream",
     "text": [
      "Entités   : 329\n",
      "Candidats : 15393\n",
      "[{'mot': 'Texte', 'type': 'ORGANIZATION'}, {'mot': 'Vues', 'type': 'ORGANIZATION'}, {'mot': 'Calligrammes', 'type': 'ORGANIZATION'}, {'mot': '', 'type': 'ORGANIZATION'}, {'mot': 'Guillaume', 'type': 'ORGANIZATION'}, {'mot': 'Apollinaire', 'type': 'ORGANIZATION'}, {'mot': 'Guillaume', 'type': 'PERSON'}, {'mot': 'Lausanne', 'type': 'LOCATION'}, {'mot': 'Roger', 'type': 'PERSON'}, {'mot': 'France', 'type': 'LOCATION'}, {'mot': 'Il', 'type': 'PERSON'}, {'mot': 'GUILLAUME', 'type': 'PERSON'}, {'mot': 'APOLLINAIRE', 'type': 'PERSON'}, {'mot': 'Cordes', 'type': 'PERSON'}, {'mot': 'Cordes', 'type': 'PERSON'}, {'mot': 'Cordes', 'type': 'PERSON'}, {'mot': 'Cordes', 'type': 'PERSON'}, {'mot': 'Bigorneaux', 'type': 'LOCATION'}, {'mot': 'Lotte', 'type': 'LOCATION'}, {'mot': 'Puits', 'type': 'PERSON'}]\n",
      "--------------------\n",
      "['Rappel', 'de', 'votre', 'demande', ':', 'Format', 'de', 'téléchargement', ':', ':', '1', 'à', '262', 'sur', '262', 'Nombre', 'de', 'pages', ':', '262']\n"
     ]
    }
   ],
   "source": [
    "import nltk\n",
    "from nltk.tag import StanfordNERTagger\n",
    "import re\n",
    "\n",
    "\n",
    "stanford_classifier = \"/Users/zhengruixing/Desktop/stanford-ner-2020-11-17/classifiers/english.all.3class.distsim.crf.ser.gz\"\n",
    "stanford_ner_path = \"/Users/zhengruixing/Desktop/stanford-ner-2020-11-17/stanford-ner.jar\"\n",
    "\n",
    "\n",
    "ner_tagger = StanfordNERTagger(stanford_classifier, stanford_ner_path, encoding='utf-8')\n",
    "\n",
    "with open(\"/Users/zhengruixing/Desktop/APPOLINAIRE_Caligrammes.txt\", \"r\", encoding=\"utf-8\") as f:\n",
    "    texte = f.read().strip()  \n",
    "\n",
    "words = nltk.word_tokenize(texte)\n",
    "\n",
    "\n",
    "ner_results = ner_tagger.tag(words)\n",
    "\n",
    "liste_entitesnom = []  \n",
    "liste_mots = []  \n",
    "\n",
    "for word, tag in ner_results:\n",
    "    if tag != \"O\": \n",
    "        liste_entitesnom.append({\"mot\": word, \"type\": tag})\n",
    "    else:\n",
    "        liste_mots.append(word)  \n",
    "\n",
    "\n",
    "print(f\"Entités   : {len(liste_entitesnom)}\")\n",
    "print(f\"Candidats : {len(liste_mots)}\")\n",
    "print(liste_entitesnom[:20])  \n",
    "print(\"-\"*20)\n",
    "print(list(liste_mots)[:20]) "
   ]
  },
  {
   "cell_type": "code",
   "execution_count": 24,
   "id": "b3ea2ea1-1652-44bb-8f5b-606a7cf36c50",
   "metadata": {},
   "outputs": [
    {
     "name": "stdout",
     "output_type": "stream",
     "text": [
      "Fichier : APPOLINAIRE_Caligrammes\n",
      "  Entités   : 329\n",
      "  Candidats : 15393\n",
      "--------------------\n",
      "  20 premières entités : [{'mot': 'Texte', 'type': 'ORGANIZATION'}, {'mot': 'Vues', 'type': 'ORGANIZATION'}, {'mot': 'Calligrammes', 'type': 'ORGANIZATION'}, {'mot': '', 'type': 'ORGANIZATION'}, {'mot': 'Guillaume', 'type': 'ORGANIZATION'}, {'mot': 'Apollinaire', 'type': 'ORGANIZATION'}, {'mot': 'Guillaume', 'type': 'PERSON'}, {'mot': 'Lausanne', 'type': 'LOCATION'}, {'mot': 'Roger', 'type': 'PERSON'}, {'mot': 'France', 'type': 'LOCATION'}, {'mot': 'Il', 'type': 'PERSON'}, {'mot': 'GUILLAUME', 'type': 'PERSON'}, {'mot': 'APOLLINAIRE', 'type': 'PERSON'}, {'mot': 'Cordes', 'type': 'PERSON'}, {'mot': 'Cordes', 'type': 'PERSON'}, {'mot': 'Cordes', 'type': 'PERSON'}, {'mot': 'Cordes', 'type': 'PERSON'}, {'mot': 'Bigorneaux', 'type': 'LOCATION'}, {'mot': 'Lotte', 'type': 'LOCATION'}, {'mot': 'Puits', 'type': 'PERSON'}]\n",
      "  20 premiers candidats : ['Rappel', 'de', 'votre', 'demande', ':', 'Format', 'de', 'téléchargement', ':', ':', '1', 'à', '262', 'sur', '262', 'Nombre', 'de', 'pages', ':', '262']\n",
      "========================================\n",
      "Fichier : DARBOUVILLE_Poesies-et-nouvelles\n",
      "  Entités   : 640\n",
      "  Candidats : 57704\n",
      "--------------------\n",
      "  20 premières entités : [{'mot': 'Texte', 'type': 'ORGANIZATION'}, {'mot': 'Vues', 'type': 'ORGANIZATION'}, {'mot': 'Sophie', 'type': 'PERSON'}, {'mot': \"d'Arbouville\", 'type': 'PERSON'}, {'mot': 'Sophie', 'type': 'PERSON'}, {'mot': 'Paris', 'type': 'LOCATION'}, {'mot': 'France', 'type': 'LOCATION'}, {'mot': 'Cour', 'type': 'LOCATION'}, {'mot': 'de', 'type': 'LOCATION'}, {'mot': 'Cassation', 'type': 'LOCATION'}, {'mot': 'rue', 'type': 'LOCATION'}, {'mot': 'de', 'type': 'LOCATION'}, {'mot': 'Vaugirard', 'type': 'LOCATION'}, {'mot': 'PARIS', 'type': 'LOCATION'}, {'mot': 'VILLE', 'type': 'LOCATION'}, {'mot': 'Sophie', 'type': 'PERSON'}, {'mot': 'de', 'type': 'PERSON'}, {'mot': 'Bazancourt', 'type': 'PERSON'}, {'mot': 'Élisa', 'type': 'PERSON'}, {'mot': 'de', 'type': 'PERSON'}]\n",
      "  20 premiers candidats : ['Rappel', 'de', 'votre', 'demande', ':', 'Format', 'de', 'téléchargement', ':', ':', '1', 'à', '410', 'sur', '410', 'Nombre', 'de', 'pages', ':', '410']\n",
      "========================================\n",
      "Fichier : DESBORDES-VALMORE_Poesies-1820\n",
      "  Entités   : 328\n",
      "  Candidats : 31961\n",
      "--------------------\n",
      "  20 premières entités : [{'mot': 'Texte', 'type': 'ORGANIZATION'}, {'mot': 'Vues', 'type': 'ORGANIZATION'}, {'mot': 'Marceline', 'type': 'PERSON'}, {'mot': 'F.', 'type': 'PERSON'}, {'mot': 'Louis', 'type': 'PERSON'}, {'mot': 'Paris', 'type': 'LOCATION'}, {'mot': 'France', 'type': 'LOCATION'}, {'mot': 'FRANÇOIS', 'type': 'PERSON'}, {'mot': 'MONSIEUR', 'type': 'PERSON'}, {'mot': 'ALIBERT', 'type': 'PERSON'}, {'mot': 'Voit', 'type': 'PERSON'}, {'mot': 'Du', 'type': 'PERSON'}, {'mot': 'Dieu', 'type': 'PERSON'}, {'mot': 'Ruisseau', 'type': 'PERSON'}, {'mot': 'Ruisseau', 'type': 'PERSON'}, {'mot': 'LES', 'type': 'ORGANIZATION'}, {'mot': 'LETTRES', 'type': 'ORGANIZATION'}, {'mot': 'Lettres', 'type': 'ORGANIZATION'}, {'mot': 'Va', 'type': 'ORGANIZATION'}, {'mot': 'Elle', 'type': 'PERSON'}]\n",
      "  20 premiers candidats : ['Rappel', 'de', 'votre', 'demande', ':', 'Format', 'de', 'téléchargement', ':', ':', '1', 'à', '213', 'sur', '213', 'Nombre', 'de', 'pages', ':', '213']\n",
      "========================================\n",
      "Fichier : HUGO_Contemplations-T2\n",
      "  Entités   : 747\n",
      "  Candidats : 61202\n",
      "--------------------\n",
      "  20 premières entités : [{'mot': 'Texte', 'type': 'ORGANIZATION'}, {'mot': 'Vues', 'type': 'ORGANIZATION'}, {'mot': 'Les', 'type': 'PERSON'}, {'mot': \"Aujourd'hui\", 'type': 'LOCATION'}, {'mot': 'Victor', 'type': 'PERSON'}, {'mot': 'Hugo', 'type': 'PERSON'}, {'mot': 'Victor', 'type': 'PERSON'}, {'mot': '(', 'type': 'PERSON'}, {'mot': 'Paris', 'type': 'LOCATION'}, {'mot': 'France', 'type': 'LOCATION'}, {'mot': 'Jk', 'type': 'ORGANIZATION'}, {'mot': 'IB', 'type': 'ORGANIZATION'}, {'mot': 'PARIS', 'type': 'LOCATION'}, {'mot': 'LEIPZIG', 'type': 'LOCATION'}, {'mot': 'LEIPZIG', 'type': 'LOCATION'}, {'mot': 'WOLFGANG', 'type': 'PERSON'}, {'mot': 'GERHARD', 'type': 'PERSON'}, {'mot': 'Vertu', 'type': 'PERSON'}, {'mot': 'Voit', 'type': 'PERSON'}, {'mot': 'SIFTIMIK', 'type': 'ORGANIZATION'}]\n",
      "  20 premiers candidats : ['Rappel', 'de', 'votre', 'demande', ':', 'Format', 'de', 'téléchargement', ':', ':', '1', 'à', '246', 'sur', '246', 'Nombre', 'de', 'pages', ':', '246']\n",
      "========================================\n",
      "Fichier : LOISEAU_Fleurs-d-avril\n",
      "  Entités   : 248\n",
      "  Candidats : 21433\n",
      "--------------------\n",
      "  20 premières entités : [{'mot': 'Texte', 'type': 'ORGANIZATION'}, {'mot': 'Vues', 'type': 'ORGANIZATION'}, {'mot': 'Jeanne', 'type': 'PERSON'}, {'mot': 'Loiseau', 'type': 'PERSON'}, {'mot': 'Loiseau', 'type': 'PERSON'}, {'mot': 'Jeanne', 'type': 'PERSON'}, {'mot': '(', 'type': 'PERSON'}, {'mot': 'Paris', 'type': 'LOCATION'}, {'mot': 'France', 'type': 'LOCATION'}, {'mot': 'J', 'type': 'PERSON'}, {'mot': 'JEANNE', 'type': 'PERSON'}, {'mot': 'LOISEAU', 'type': 'PERSON'}, {'mot': 'Fleurs', 'type': 'ORGANIZATION'}, {'mot': 'PARIS', 'type': 'LOCATION'}, {'mot': 'ALPHONSE', 'type': 'PERSON'}, {'mot': 'LEMERRE', 'type': 'PERSON'}, {'mot': 'Les', 'type': 'PERSON'}, {'mot': 'Les', 'type': 'PERSON'}, {'mot': 'Avril', 'type': 'PERSON'}, {'mot': 'Mes', 'type': 'PERSON'}]\n",
      "  20 premiers candidats : ['Rappel', 'de', 'votre', 'demande', ':', 'Format', 'de', 'téléchargement', ':', ':', '1', 'à', '136', 'sur', '136', 'Nombre', 'de', 'pages', ':', '136']\n",
      "========================================\n",
      "Fichier : NOAILLES_Derniers-vers\n",
      "  Entités   : 200\n",
      "  Candidats : 13361\n",
      "--------------------\n",
      "  20 premières entités : [{'mot': 'Texte', 'type': 'ORGANIZATION'}, {'mot': 'Vues', 'type': 'ORGANIZATION'}, {'mot': 'Comtesse', 'type': 'ORGANIZATION'}, {'mot': 'de', 'type': 'ORGANIZATION'}, {'mot': 'Noailles', 'type': 'ORGANIZATION'}, {'mot': 'Auteur', 'type': 'ORGANIZATION'}, {'mot': 'Noailles', 'type': 'LOCATION'}, {'mot': 'Anna', 'type': 'PERSON'}, {'mot': 'de', 'type': 'PERSON'}, {'mot': '(', 'type': 'PERSON'}, {'mot': 'France', 'type': 'LOCATION'}, {'mot': 'GRASSET', 'type': 'ORGANIZATION'}, {'mot': 'Constantin', 'type': 'PERSON'}, {'mot': 'Paris', 'type': 'LOCATION'}, {'mot': 'France', 'type': 'LOCATION'}, {'mot': 'Monde', 'type': 'PERSON'}, {'mot': 'Puisque', 'type': 'PERSON'}, {'mot': 'Veuille', 'type': 'PERSON'}, {'mot': 'Erre', 'type': 'PERSON'}, {'mot': 'Monde', 'type': 'PERSON'}]\n",
      "  20 premiers candidats : ['Rappel', 'de', 'votre', 'demande', ':', 'Format', 'de', 'téléchargement', ':', ':', '1', 'à', '166', 'sur', '166', 'Nombre', 'de', 'pages', ':', '166']\n",
      "========================================\n",
      "Fichier : RIMBAUD_Illuminations-et-Une-saison-en-enfer-et-Notice-Paul-Verlaine\n",
      "  Entités   : 183\n",
      "  Candidats : 19495\n",
      "--------------------\n",
      "  20 premières entités : [{'mot': 'Texte', 'type': 'ORGANIZATION'}, {'mot': 'Vues', 'type': 'ORGANIZATION'}, {'mot': 'Une', 'type': 'ORGANIZATION'}, {'mot': 'Saison', 'type': 'ORGANIZATION'}, {'mot': 'en', 'type': 'ORGANIZATION'}, {'mot': 'Enfer', 'type': 'ORGANIZATION'}, {'mot': 'Paul', 'type': 'PERSON'}, {'mot': 'Verlaine', 'type': 'PERSON'}, {'mot': 'Titre', 'type': 'PERSON'}, {'mot': 'Une', 'type': 'ORGANIZATION'}, {'mot': 'Saison', 'type': 'ORGANIZATION'}, {'mot': 'Rimbaud', 'type': 'PERSON'}, {'mot': 'Arthur', 'type': 'PERSON'}, {'mot': 'L.', 'type': 'PERSON'}, {'mot': 'Vanier', 'type': 'PERSON'}, {'mot': 'Paris', 'type': 'LOCATION'}, {'mot': 'Verlaine', 'type': 'PERSON'}, {'mot': 'Paul', 'type': 'PERSON'}, {'mot': 'France', 'type': 'LOCATION'}, {'mot': 'UNE', 'type': 'ORGANIZATION'}]\n",
      "  20 premiers candidats : ['Rappel', 'de', 'votre', 'demande', ':', 'Format', 'de', 'téléchargement', ':', ':', '1', 'à', '169', 'sur', '169', 'Nombre', 'de', 'pages', ':', '169']\n",
      "========================================\n",
      "Fichier : VERLAINE_Sagesse\n",
      "  Entités   : 260\n",
      "  Candidats : 13098\n",
      "--------------------\n",
      "  20 premières entités : [{'mot': 'Texte', 'type': 'ORGANIZATION'}, {'mot': 'Vues', 'type': 'ORGANIZATION'}, {'mot': 'Paul', 'type': 'PERSON'}, {'mot': 'Verlaine', 'type': 'PERSON'}, {'mot': 'Verlaine', 'type': 'PERSON'}, {'mot': 'Paul', 'type': 'PERSON'}, {'mot': 'L.', 'type': 'PERSON'}, {'mot': 'Vanier', 'type': 'PERSON'}, {'mot': 'Paris', 'type': 'LOCATION'}, {'mot': 'France', 'type': 'LOCATION'}, {'mot': 'PAUL', 'type': 'PERSON'}, {'mot': 'VERLAINE', 'type': 'PERSON'}, {'mot': 'PARIS', 'type': 'LOCATION'}, {'mot': 'LEON', 'type': 'LOCATION'}, {'mot': 'VA', 'type': 'LOCATION'}, {'mot': 'SAGESSE', 'type': 'ORGANIZATION'}, {'mot': 'Envoi', 'type': 'ORGANIZATION'}, {'mot': 'Sagesse', 'type': 'ORGANIZATION'}, {'mot': 'Parallèlement', 'type': 'ORGANIZATION'}, {'mot': 'Il', 'type': 'ORGANIZATION'}]\n",
      "  20 premiers candidats : ['Rappel', 'de', 'votre', 'demande', ':', 'Format', 'de', 'téléchargement', ':', ':', '1', 'à', '167', 'sur', '167', 'Nombre', 'de', 'pages', ':', '167']\n",
      "========================================\n",
      "Fichier : SAUVAGE_Tandis-que-la-terre-tourne\n",
      "  Entités   : 201\n",
      "  Candidats : 21615\n",
      "--------------------\n",
      "  20 premières entités : [{'mot': 'Texte', 'type': 'ORGANIZATION'}, {'mot': 'Vues', 'type': 'ORGANIZATION'}, {'mot': 'Cécile', 'type': 'ORGANIZATION'}, {'mot': 'Sauvage', 'type': 'ORGANIZATION'}, {'mot': 'Auteur', 'type': 'ORGANIZATION'}, {'mot': 'Sauvage', 'type': 'PERSON'}, {'mot': 'Cécile', 'type': 'ORGANIZATION'}, {'mot': 'France', 'type': 'LOCATION'}, {'mot': 'Paris', 'type': 'LOCATION'}, {'mot': 'France', 'type': 'LOCATION'}, {'mot': 'CÉCILE', 'type': 'ORGANIZATION'}, {'mot': 'PARIS', 'type': 'LOCATION'}, {'mot': 'Les', 'type': 'PERSON'}, {'mot': 'Les', 'type': 'PERSON'}, {'mot': 'Marions', 'type': 'ORGANIZATION'}, {'mot': 'Bruiner', 'type': 'PERSON'}, {'mot': 'LA', 'type': 'ORGANIZATION'}, {'mot': 'TERRE', 'type': 'ORGANIZATION'}, {'mot': 'Essayait', 'type': 'PERSON'}, {'mot': 'Dérangeait', 'type': 'PERSON'}]\n",
      "  20 premiers candidats : ['Rappel', 'de', 'votre', 'demande', ':', 'Format', 'de', 'téléchargement', ':', ':', '1', 'à', '204', 'sur', '204', 'Nombre', 'de', 'pages', ':', '204']\n",
      "========================================\n",
      "Fichier : VIVIEN_Etudes-et-preludes\n",
      "  Entités   : 652\n",
      "  Candidats : 36113\n",
      "--------------------\n",
      "  20 premières entités : [{'mot': 'Texte', 'type': 'ORGANIZATION'}, {'mot': 'Vues', 'type': 'ORGANIZATION'}, {'mot': 'Renée', 'type': 'PERSON'}, {'mot': 'Vivien', 'type': 'PERSON'}, {'mot': 'La', 'type': 'PERSON'}, {'mot': 'Vénus', 'type': 'PERSON'}, {'mot': 'Vivien', 'type': 'PERSON'}, {'mot': 'Renée', 'type': 'PERSON'}, {'mot': '(', 'type': 'PERSON'}, {'mot': 'A.', 'type': 'PERSON'}, {'mot': 'Lemerre', 'type': 'PERSON'}, {'mot': 'Paris', 'type': 'LOCATION'}, {'mot': 'France', 'type': 'LOCATION'}, {'mot': 'Renée', 'type': 'PERSON'}, {'mot': 'Vivien', 'type': 'PERSON'}, {'mot': 'ÉTUDES', 'type': 'PERSON'}, {'mot': 'PARIS', 'type': 'LOCATION'}, {'mot': 'LIBRAIRIE', 'type': 'ORGANIZATION'}, {'mot': 'ALPHONSE', 'type': 'ORGANIZATION'}, {'mot': 'LE', 'type': 'ORGANIZATION'}]\n",
      "  20 premiers candidats : ['Rappel', 'de', 'votre', 'demande', ':', 'Format', 'de', 'téléchargement', ':', ':', '1', 'à', '270', 'sur', '270', 'Nombre', 'de', 'pages', ':', '270']\n",
      "========================================\n",
      "Traitement terminé pour tous les fichiers.\n"
     ]
    }
   ],
   "source": [
    "import nltk\n",
    "from nltk.tag import StanfordNERTagger\n",
    "import os\n",
    "import json\n",
    "\n",
    "# Définir les chemins vers les modèles Stanford NER et le fichier JAR\n",
    "stanford_classifier = \"/Users/zhengruixing/Desktop/stanford-ner-2020-11-17/classifiers/english.all.3class.distsim.crf.ser.gz\"\n",
    "stanford_ner_path = \"/Users/zhengruixing/Desktop/stanford-ner-2020-11-17/stanford-ner.jar\"\n",
    "\n",
    "# Initialiser le tagger NER de Stanford\n",
    "ner_tagger = StanfordNERTagger(stanford_classifier, stanford_ner_path, encoding='utf-8')\n",
    "\n",
    "# Liste des chemins de fichiers à traiter\n",
    "file_paths = [\n",
    "    \"/Users/zhengruixing/Desktop/APPOLINAIRE_Caligrammes.txt\",\n",
    "    \"/Users/zhengruixing/Desktop/DARBOUVILLE_Poesies-et-nouvelles.txt\",\n",
    "    \"/Users/zhengruixing/Desktop/DESBORDES-VALMORE_Poesies-1820.txt\",\n",
    "    \"/Users/zhengruixing/Desktop/HUGO_Contemplations-T2.txt\",\n",
    "    \"/Users/zhengruixing/Desktop/LOISEAU_Fleurs-d-avril.txt\",\n",
    "    \"/Users/zhengruixing/Desktop/NOAILLES_Derniers-vers.txt\",\n",
    "    \"/Users/zhengruixing/Desktop/RIMBAUD_Illuminations-et-Une-saison-en-enfer-et-Notice-Paul-Verlaine.txt\",\n",
    "    \"/Users/zhengruixing/Desktop/VERLAINE_Sagesse.txt\",\n",
    "    \"/Users/zhengruixing/Desktop/SAUVAGE_Tandis-que-la-terre-tourne.txt\",\n",
    "    \"/Users/zhengruixing/Desktop/VIVIEN_Etudes-et-preludes.txt\"\n",
    "]\n",
    "\n",
    "# Dossier de sortie pour enregistrer les résultats\n",
    "output_dir = \"/Users/zhengruixing/Desktop/output_results\"\n",
    "os.makedirs(output_dir, exist_ok=True)\n",
    "\n",
    "# Traiter chaque fichier\n",
    "for path_fichier in file_paths:\n",
    "    # Extraire le nom du fichier sans le chemin\n",
    "    file_name = os.path.basename(path_fichier).replace(\".txt\", \"\")\n",
    "\n",
    "    # Lire le fichier texte\n",
    "    with open(path_fichier, \"r\", encoding=\"utf-8\") as f:\n",
    "        texte = f.read().strip()\n",
    "\n",
    "    # Tokenisation des mots\n",
    "    words = nltk.word_tokenize(texte)\n",
    "\n",
    "    # Appliquer le NER de Stanford pour extraire les entités nommées\n",
    "    ner_results = ner_tagger.tag(words)\n",
    "\n",
    "    # Listes pour stocker les entités nommées et les mots candidats\n",
    "    liste_entitesnom = []  \n",
    "    liste_mots = []  \n",
    "\n",
    "    for word, tag in ner_results:\n",
    "        if tag != \"O\":  # Si l'étiquette n'est pas \"O\" (aucune entité trouvée)\n",
    "            liste_entitesnom.append({\"mot\": word, \"type\": tag})  # Ajouter l'entité\n",
    "        else:\n",
    "            liste_mots.append(word)  # Ajouter le mot candidat (non étiqueté comme entité)\n",
    "\n",
    "    # Sauvegarder les résultats (entités et mots candidats) dans un fichier JSON\n",
    "    output_data = {\n",
    "        \"entites_nom\": liste_entitesnom,\n",
    "        \"mots_candidats\": liste_mots\n",
    "    }\n",
    "\n",
    "    # Chemin du fichier JSON pour chaque fichier de texte\n",
    "    json_file_path = os.path.join(output_dir, f\"{file_name}_entites_candidats.json\")\n",
    "    with open(json_file_path, \"w\", encoding=\"utf-8\") as json_file:\n",
    "        json.dump(output_data, json_file, indent=4, ensure_ascii=False)\n",
    "\n",
    "    # Afficher le nombre d'entités et de mots candidats dans la console\n",
    "    print(f\"Fichier : {file_name}\")\n",
    "    print(f\"  Entités   : {len(liste_entitesnom)}\")\n",
    "    print(f\"  Candidats : {len(liste_mots)}\")\n",
    "    print(\"-\" * 20)\n",
    "    \n",
    "    # Afficher les 20 premières entités et les 20 premiers mots candidats\n",
    "    print(f\"  20 premières entités : {liste_entitesnom[:20]}\")\n",
    "    print(f\"  20 premiers candidats : {liste_mots[:20]}\")\n",
    "    print(\"=\" * 40)\n",
    "\n",
    "    # Sauvegarder les entités et les mots candidats dans des fichiers texte\n",
    "    with open(os.path.join(output_dir, f\"{file_name}_entites.txt\"), \"w\", encoding=\"utf-8\") as entites_file:\n",
    "        for entite in liste_entitesnom:\n",
    "            entites_file.write(f\"{entite['mot']} - {entite['type']}\\n\")\n",
    "    \n",
    "    with open(os.path.join(output_dir, f\"{file_name}_candidats.txt\"), \"w\", encoding=\"utf-8\") as candidats_file:\n",
    "        for mot in liste_mots:\n",
    "            candidats_file.write(f\"{mot}\\n\")\n",
    "\n",
    "# Afficher un message une fois que tous les fichiers ont été traités\n",
    "print(\"Traitement terminé pour tous les fichiers.\")\n"
   ]
  },
  {
   "cell_type": "code",
   "execution_count": 32,
   "id": "46763593-71d6-46b5-8ef8-5a6393c1eac8",
   "metadata": {
    "scrolled": true
   },
   "outputs": [
    {
     "name": "stderr",
     "output_type": "stream",
     "text": [
      "Traitement des fichiers:  10%|██▎                    | 1/10 [00:01<00:13,  1.55s/fichier]"
     ]
    },
    {
     "name": "stdout",
     "output_type": "stream",
     "text": [
      "Fichier : APPOLINAIRE_Caligrammes\n",
      "  Entités   : 329\n",
      "  Candidats : 15393\n",
      "--------------------\n",
      "  20 premières entités : [{'mot': 'Texte', 'type': 'ORGANIZATION'}, {'mot': 'Vues', 'type': 'ORGANIZATION'}, {'mot': 'Calligrammes', 'type': 'ORGANIZATION'}, {'mot': '', 'type': 'ORGANIZATION'}, {'mot': 'Guillaume', 'type': 'ORGANIZATION'}, {'mot': 'Apollinaire', 'type': 'ORGANIZATION'}, {'mot': 'Guillaume', 'type': 'PERSON'}, {'mot': 'Lausanne', 'type': 'LOCATION'}, {'mot': 'Roger', 'type': 'PERSON'}, {'mot': 'France', 'type': 'LOCATION'}, {'mot': 'Il', 'type': 'PERSON'}, {'mot': 'GUILLAUME', 'type': 'PERSON'}, {'mot': 'APOLLINAIRE', 'type': 'PERSON'}, {'mot': 'Cordes', 'type': 'PERSON'}, {'mot': 'Cordes', 'type': 'PERSON'}, {'mot': 'Cordes', 'type': 'PERSON'}, {'mot': 'Cordes', 'type': 'PERSON'}, {'mot': 'Bigorneaux', 'type': 'LOCATION'}, {'mot': 'Lotte', 'type': 'LOCATION'}, {'mot': 'Puits', 'type': 'PERSON'}]\n",
      "  20 premiers candidats : ['Rappel', 'de', 'votre', 'demande', ':', 'Format', 'de', 'téléchargement', ':', ':', '1', 'à', '262', 'sur', '262', 'Nombre', 'de', 'pages', ':', '262']\n",
      "========================================\n"
     ]
    },
    {
     "name": "stderr",
     "output_type": "stream",
     "text": [
      "Traitement des fichiers:  20%|████▌                  | 2/10 [00:04<00:17,  2.14s/fichier]"
     ]
    },
    {
     "name": "stdout",
     "output_type": "stream",
     "text": [
      "Fichier : DARBOUVILLE_Poesies-et-nouvelles\n",
      "  Entités   : 640\n",
      "  Candidats : 57704\n",
      "--------------------\n",
      "  20 premières entités : [{'mot': 'Texte', 'type': 'ORGANIZATION'}, {'mot': 'Vues', 'type': 'ORGANIZATION'}, {'mot': 'Sophie', 'type': 'PERSON'}, {'mot': \"d'Arbouville\", 'type': 'PERSON'}, {'mot': 'Sophie', 'type': 'PERSON'}, {'mot': 'Paris', 'type': 'LOCATION'}, {'mot': 'France', 'type': 'LOCATION'}, {'mot': 'Cour', 'type': 'LOCATION'}, {'mot': 'de', 'type': 'LOCATION'}, {'mot': 'Cassation', 'type': 'LOCATION'}, {'mot': 'rue', 'type': 'LOCATION'}, {'mot': 'de', 'type': 'LOCATION'}, {'mot': 'Vaugirard', 'type': 'LOCATION'}, {'mot': 'PARIS', 'type': 'LOCATION'}, {'mot': 'VILLE', 'type': 'LOCATION'}, {'mot': 'Sophie', 'type': 'PERSON'}, {'mot': 'de', 'type': 'PERSON'}, {'mot': 'Bazancourt', 'type': 'PERSON'}, {'mot': 'Élisa', 'type': 'PERSON'}, {'mot': 'de', 'type': 'PERSON'}]\n",
      "  20 premiers candidats : ['Rappel', 'de', 'votre', 'demande', ':', 'Format', 'de', 'téléchargement', ':', ':', '1', 'à', '410', 'sur', '410', 'Nombre', 'de', 'pages', ':', '410']\n",
      "========================================\n"
     ]
    },
    {
     "name": "stderr",
     "output_type": "stream",
     "text": [
      "Traitement des fichiers:  30%|██████▉                | 3/10 [00:06<00:14,  2.12s/fichier]"
     ]
    },
    {
     "name": "stdout",
     "output_type": "stream",
     "text": [
      "Fichier : DESBORDES-VALMORE_Poesies-1820\n",
      "  Entités   : 328\n",
      "  Candidats : 31961\n",
      "--------------------\n",
      "  20 premières entités : [{'mot': 'Texte', 'type': 'ORGANIZATION'}, {'mot': 'Vues', 'type': 'ORGANIZATION'}, {'mot': 'Marceline', 'type': 'PERSON'}, {'mot': 'F.', 'type': 'PERSON'}, {'mot': 'Louis', 'type': 'PERSON'}, {'mot': 'Paris', 'type': 'LOCATION'}, {'mot': 'France', 'type': 'LOCATION'}, {'mot': 'FRANÇOIS', 'type': 'PERSON'}, {'mot': 'MONSIEUR', 'type': 'PERSON'}, {'mot': 'ALIBERT', 'type': 'PERSON'}, {'mot': 'Voit', 'type': 'PERSON'}, {'mot': 'Du', 'type': 'PERSON'}, {'mot': 'Dieu', 'type': 'PERSON'}, {'mot': 'Ruisseau', 'type': 'PERSON'}, {'mot': 'Ruisseau', 'type': 'PERSON'}, {'mot': 'LES', 'type': 'ORGANIZATION'}, {'mot': 'LETTRES', 'type': 'ORGANIZATION'}, {'mot': 'Lettres', 'type': 'ORGANIZATION'}, {'mot': 'Va', 'type': 'ORGANIZATION'}, {'mot': 'Elle', 'type': 'PERSON'}]\n",
      "  20 premiers candidats : ['Rappel', 'de', 'votre', 'demande', ':', 'Format', 'de', 'téléchargement', ':', ':', '1', 'à', '213', 'sur', '213', 'Nombre', 'de', 'pages', ':', '213']\n",
      "========================================\n"
     ]
    },
    {
     "name": "stderr",
     "output_type": "stream",
     "text": [
      "Traitement des fichiers:  40%|█████████▏             | 4/10 [00:08<00:13,  2.25s/fichier]"
     ]
    },
    {
     "name": "stdout",
     "output_type": "stream",
     "text": [
      "Fichier : HUGO_Contemplations-T2\n",
      "  Entités   : 747\n",
      "  Candidats : 61202\n",
      "--------------------\n",
      "  20 premières entités : [{'mot': 'Texte', 'type': 'ORGANIZATION'}, {'mot': 'Vues', 'type': 'ORGANIZATION'}, {'mot': 'Les', 'type': 'PERSON'}, {'mot': \"Aujourd'hui\", 'type': 'LOCATION'}, {'mot': 'Victor', 'type': 'PERSON'}, {'mot': 'Hugo', 'type': 'PERSON'}, {'mot': 'Victor', 'type': 'PERSON'}, {'mot': '(', 'type': 'PERSON'}, {'mot': 'Paris', 'type': 'LOCATION'}, {'mot': 'France', 'type': 'LOCATION'}, {'mot': 'Jk', 'type': 'ORGANIZATION'}, {'mot': 'IB', 'type': 'ORGANIZATION'}, {'mot': 'PARIS', 'type': 'LOCATION'}, {'mot': 'LEIPZIG', 'type': 'LOCATION'}, {'mot': 'LEIPZIG', 'type': 'LOCATION'}, {'mot': 'WOLFGANG', 'type': 'PERSON'}, {'mot': 'GERHARD', 'type': 'PERSON'}, {'mot': 'Vertu', 'type': 'PERSON'}, {'mot': 'Voit', 'type': 'PERSON'}, {'mot': 'SIFTIMIK', 'type': 'ORGANIZATION'}]\n",
      "  20 premiers candidats : ['Rappel', 'de', 'votre', 'demande', ':', 'Format', 'de', 'téléchargement', ':', ':', '1', 'à', '246', 'sur', '246', 'Nombre', 'de', 'pages', ':', '246']\n",
      "========================================\n"
     ]
    },
    {
     "name": "stderr",
     "output_type": "stream",
     "text": [
      "Traitement des fichiers:  50%|███████████▌           | 5/10 [00:10<00:09,  1.98s/fichier]"
     ]
    },
    {
     "name": "stdout",
     "output_type": "stream",
     "text": [
      "Fichier : LOISEAU_Fleurs-d-avril\n",
      "  Entités   : 248\n",
      "  Candidats : 21433\n",
      "--------------------\n",
      "  20 premières entités : [{'mot': 'Texte', 'type': 'ORGANIZATION'}, {'mot': 'Vues', 'type': 'ORGANIZATION'}, {'mot': 'Jeanne', 'type': 'PERSON'}, {'mot': 'Loiseau', 'type': 'PERSON'}, {'mot': 'Loiseau', 'type': 'PERSON'}, {'mot': 'Jeanne', 'type': 'PERSON'}, {'mot': '(', 'type': 'PERSON'}, {'mot': 'Paris', 'type': 'LOCATION'}, {'mot': 'France', 'type': 'LOCATION'}, {'mot': 'J', 'type': 'PERSON'}, {'mot': 'JEANNE', 'type': 'PERSON'}, {'mot': 'LOISEAU', 'type': 'PERSON'}, {'mot': 'Fleurs', 'type': 'ORGANIZATION'}, {'mot': 'PARIS', 'type': 'LOCATION'}, {'mot': 'ALPHONSE', 'type': 'PERSON'}, {'mot': 'LEMERRE', 'type': 'PERSON'}, {'mot': 'Les', 'type': 'PERSON'}, {'mot': 'Les', 'type': 'PERSON'}, {'mot': 'Avril', 'type': 'PERSON'}, {'mot': 'Mes', 'type': 'PERSON'}]\n",
      "  20 premiers candidats : ['Rappel', 'de', 'votre', 'demande', ':', 'Format', 'de', 'téléchargement', ':', ':', '1', 'à', '136', 'sur', '136', 'Nombre', 'de', 'pages', ':', '136']\n",
      "========================================\n"
     ]
    },
    {
     "name": "stderr",
     "output_type": "stream",
     "text": [
      "Traitement des fichiers:  60%|█████████████▊         | 6/10 [00:11<00:07,  1.76s/fichier]"
     ]
    },
    {
     "name": "stdout",
     "output_type": "stream",
     "text": [
      "Fichier : NOAILLES_Derniers-vers\n",
      "  Entités   : 200\n",
      "  Candidats : 13361\n",
      "--------------------\n",
      "  20 premières entités : [{'mot': 'Texte', 'type': 'ORGANIZATION'}, {'mot': 'Vues', 'type': 'ORGANIZATION'}, {'mot': 'Comtesse', 'type': 'ORGANIZATION'}, {'mot': 'de', 'type': 'ORGANIZATION'}, {'mot': 'Noailles', 'type': 'ORGANIZATION'}, {'mot': 'Auteur', 'type': 'ORGANIZATION'}, {'mot': 'Noailles', 'type': 'LOCATION'}, {'mot': 'Anna', 'type': 'PERSON'}, {'mot': 'de', 'type': 'PERSON'}, {'mot': '(', 'type': 'PERSON'}, {'mot': 'France', 'type': 'LOCATION'}, {'mot': 'GRASSET', 'type': 'ORGANIZATION'}, {'mot': 'Constantin', 'type': 'PERSON'}, {'mot': 'Paris', 'type': 'LOCATION'}, {'mot': 'France', 'type': 'LOCATION'}, {'mot': 'Monde', 'type': 'PERSON'}, {'mot': 'Puisque', 'type': 'PERSON'}, {'mot': 'Veuille', 'type': 'PERSON'}, {'mot': 'Erre', 'type': 'PERSON'}, {'mot': 'Monde', 'type': 'PERSON'}]\n",
      "  20 premiers candidats : ['Rappel', 'de', 'votre', 'demande', ':', 'Format', 'de', 'téléchargement', ':', ':', '1', 'à', '166', 'sur', '166', 'Nombre', 'de', 'pages', ':', '166']\n",
      "========================================\n"
     ]
    },
    {
     "name": "stderr",
     "output_type": "stream",
     "text": [
      "Traitement des fichiers:  70%|████████████████       | 7/10 [00:13<00:05,  1.69s/fichier]"
     ]
    },
    {
     "name": "stdout",
     "output_type": "stream",
     "text": [
      "Fichier : RIMBAUD_Illuminations-et-Une-saison-en-enfer-et-Notice-Paul-Verlaine\n",
      "  Entités   : 183\n",
      "  Candidats : 19495\n",
      "--------------------\n",
      "  20 premières entités : [{'mot': 'Texte', 'type': 'ORGANIZATION'}, {'mot': 'Vues', 'type': 'ORGANIZATION'}, {'mot': 'Une', 'type': 'ORGANIZATION'}, {'mot': 'Saison', 'type': 'ORGANIZATION'}, {'mot': 'en', 'type': 'ORGANIZATION'}, {'mot': 'Enfer', 'type': 'ORGANIZATION'}, {'mot': 'Paul', 'type': 'PERSON'}, {'mot': 'Verlaine', 'type': 'PERSON'}, {'mot': 'Titre', 'type': 'PERSON'}, {'mot': 'Une', 'type': 'ORGANIZATION'}, {'mot': 'Saison', 'type': 'ORGANIZATION'}, {'mot': 'Rimbaud', 'type': 'PERSON'}, {'mot': 'Arthur', 'type': 'PERSON'}, {'mot': 'L.', 'type': 'PERSON'}, {'mot': 'Vanier', 'type': 'PERSON'}, {'mot': 'Paris', 'type': 'LOCATION'}, {'mot': 'Verlaine', 'type': 'PERSON'}, {'mot': 'Paul', 'type': 'PERSON'}, {'mot': 'France', 'type': 'LOCATION'}, {'mot': 'UNE', 'type': 'ORGANIZATION'}]\n",
      "  20 premiers candidats : ['Rappel', 'de', 'votre', 'demande', ':', 'Format', 'de', 'téléchargement', ':', ':', '1', 'à', '169', 'sur', '169', 'Nombre', 'de', 'pages', ':', '169']\n",
      "========================================\n"
     ]
    },
    {
     "name": "stderr",
     "output_type": "stream",
     "text": [
      "Traitement des fichiers:  80%|██████████████████▍    | 8/10 [00:14<00:03,  1.56s/fichier]"
     ]
    },
    {
     "name": "stdout",
     "output_type": "stream",
     "text": [
      "Fichier : VERLAINE_Sagesse\n",
      "  Entités   : 260\n",
      "  Candidats : 13098\n",
      "--------------------\n",
      "  20 premières entités : [{'mot': 'Texte', 'type': 'ORGANIZATION'}, {'mot': 'Vues', 'type': 'ORGANIZATION'}, {'mot': 'Paul', 'type': 'PERSON'}, {'mot': 'Verlaine', 'type': 'PERSON'}, {'mot': 'Verlaine', 'type': 'PERSON'}, {'mot': 'Paul', 'type': 'PERSON'}, {'mot': 'L.', 'type': 'PERSON'}, {'mot': 'Vanier', 'type': 'PERSON'}, {'mot': 'Paris', 'type': 'LOCATION'}, {'mot': 'France', 'type': 'LOCATION'}, {'mot': 'PAUL', 'type': 'PERSON'}, {'mot': 'VERLAINE', 'type': 'PERSON'}, {'mot': 'PARIS', 'type': 'LOCATION'}, {'mot': 'LEON', 'type': 'LOCATION'}, {'mot': 'VA', 'type': 'LOCATION'}, {'mot': 'SAGESSE', 'type': 'ORGANIZATION'}, {'mot': 'Envoi', 'type': 'ORGANIZATION'}, {'mot': 'Sagesse', 'type': 'ORGANIZATION'}, {'mot': 'Parallèlement', 'type': 'ORGANIZATION'}, {'mot': 'Il', 'type': 'ORGANIZATION'}]\n",
      "  20 premiers candidats : ['Rappel', 'de', 'votre', 'demande', ':', 'Format', 'de', 'téléchargement', ':', ':', '1', 'à', '167', 'sur', '167', 'Nombre', 'de', 'pages', ':', '167']\n",
      "========================================\n"
     ]
    },
    {
     "name": "stderr",
     "output_type": "stream",
     "text": [
      "Traitement des fichiers:  90%|████████████████████▋  | 9/10 [00:15<00:01,  1.55s/fichier]"
     ]
    },
    {
     "name": "stdout",
     "output_type": "stream",
     "text": [
      "Fichier : SAUVAGE_Tandis-que-la-terre-tourne\n",
      "  Entités   : 201\n",
      "  Candidats : 21615\n",
      "--------------------\n",
      "  20 premières entités : [{'mot': 'Texte', 'type': 'ORGANIZATION'}, {'mot': 'Vues', 'type': 'ORGANIZATION'}, {'mot': 'Cécile', 'type': 'ORGANIZATION'}, {'mot': 'Sauvage', 'type': 'ORGANIZATION'}, {'mot': 'Auteur', 'type': 'ORGANIZATION'}, {'mot': 'Sauvage', 'type': 'PERSON'}, {'mot': 'Cécile', 'type': 'ORGANIZATION'}, {'mot': 'France', 'type': 'LOCATION'}, {'mot': 'Paris', 'type': 'LOCATION'}, {'mot': 'France', 'type': 'LOCATION'}, {'mot': 'CÉCILE', 'type': 'ORGANIZATION'}, {'mot': 'PARIS', 'type': 'LOCATION'}, {'mot': 'Les', 'type': 'PERSON'}, {'mot': 'Les', 'type': 'PERSON'}, {'mot': 'Marions', 'type': 'ORGANIZATION'}, {'mot': 'Bruiner', 'type': 'PERSON'}, {'mot': 'LA', 'type': 'ORGANIZATION'}, {'mot': 'TERRE', 'type': 'ORGANIZATION'}, {'mot': 'Essayait', 'type': 'PERSON'}, {'mot': 'Dérangeait', 'type': 'PERSON'}]\n",
      "  20 premiers candidats : ['Rappel', 'de', 'votre', 'demande', ':', 'Format', 'de', 'téléchargement', ':', ':', '1', 'à', '204', 'sur', '204', 'Nombre', 'de', 'pages', ':', '204']\n",
      "========================================\n"
     ]
    },
    {
     "name": "stderr",
     "output_type": "stream",
     "text": [
      "Traitement des fichiers: 100%|██████████████████████| 10/10 [00:17<00:00,  1.78s/fichier]"
     ]
    },
    {
     "name": "stdout",
     "output_type": "stream",
     "text": [
      "Fichier : VIVIEN_Etudes-et-preludes\n",
      "  Entités   : 652\n",
      "  Candidats : 36113\n",
      "--------------------\n",
      "  20 premières entités : [{'mot': 'Texte', 'type': 'ORGANIZATION'}, {'mot': 'Vues', 'type': 'ORGANIZATION'}, {'mot': 'Renée', 'type': 'PERSON'}, {'mot': 'Vivien', 'type': 'PERSON'}, {'mot': 'La', 'type': 'PERSON'}, {'mot': 'Vénus', 'type': 'PERSON'}, {'mot': 'Vivien', 'type': 'PERSON'}, {'mot': 'Renée', 'type': 'PERSON'}, {'mot': '(', 'type': 'PERSON'}, {'mot': 'A.', 'type': 'PERSON'}, {'mot': 'Lemerre', 'type': 'PERSON'}, {'mot': 'Paris', 'type': 'LOCATION'}, {'mot': 'France', 'type': 'LOCATION'}, {'mot': 'Renée', 'type': 'PERSON'}, {'mot': 'Vivien', 'type': 'PERSON'}, {'mot': 'ÉTUDES', 'type': 'PERSON'}, {'mot': 'PARIS', 'type': 'LOCATION'}, {'mot': 'LIBRAIRIE', 'type': 'ORGANIZATION'}, {'mot': 'ALPHONSE', 'type': 'ORGANIZATION'}, {'mot': 'LE', 'type': 'ORGANIZATION'}]\n",
      "  20 premiers candidats : ['Rappel', 'de', 'votre', 'demande', ':', 'Format', 'de', 'téléchargement', ':', ':', '1', 'à', '270', 'sur', '270', 'Nombre', 'de', 'pages', ':', '270']\n",
      "========================================\n",
      "\n",
      "Résumé des résultats des fichiers traités :\n",
      "\n",
      "                                             Fichier  Entites_Nom  \\\n",
      "0                            APPOLINAIRE_Caligrammes          329   \n",
      "1                   DARBOUVILLE_Poesies-et-nouvelles          640   \n",
      "2                     DESBORDES-VALMORE_Poesies-1820          328   \n",
      "3                             HUGO_Contemplations-T2          747   \n",
      "4                             LOISEAU_Fleurs-d-avril          248   \n",
      "5                             NOAILLES_Derniers-vers          200   \n",
      "6  RIMBAUD_Illuminations-et-Une-saison-en-enfer-e...          183   \n",
      "7                                   VERLAINE_Sagesse          260   \n",
      "8                 SAUVAGE_Tandis-que-la-terre-tourne          201   \n",
      "9                          VIVIEN_Etudes-et-preludes          652   \n",
      "\n",
      "   Mots_Candidats  Temps_Procédé (s)  \n",
      "0           15393               1.55  \n",
      "1           57704               2.56  \n",
      "2           31961               2.09  \n",
      "3           61202               2.45  \n",
      "4           21433               1.50  \n",
      "5           13361               1.32  \n",
      "6           19495               1.54  \n",
      "7           13098               1.30  \n",
      "8           21615               1.52  \n",
      "9           36113               1.96  \n",
      "\n",
      "Traitement terminé pour tous les fichiers.\n"
     ]
    },
    {
     "name": "stderr",
     "output_type": "stream",
     "text": [
      "\n"
     ]
    }
   ],
   "source": [
    "import nltk\n",
    "from nltk.tag import StanfordNERTagger\n",
    "import os\n",
    "import json\n",
    "import pandas as pd\n",
    "from tqdm import tqdm  # 导入 tqdm 库\n",
    "import time  # 用于计算处理时间\n",
    "\n",
    "# Définir les chemins vers les modèles Stanford NER et le fichier JAR\n",
    "stanford_classifier = \"/Users/zhengruixing/Desktop/stanford-ner-2020-11-17/classifiers/english.all.3class.distsim.crf.ser.gz\"\n",
    "stanford_ner_path = \"/Users/zhengruixing/Desktop/stanford-ner-2020-11-17/stanford-ner.jar\"\n",
    "\n",
    "# Initialiser le tagger NER de Stanford\n",
    "ner_tagger = StanfordNERTagger(stanford_classifier, stanford_ner_path, encoding='utf-8')\n",
    "\n",
    "# Liste des chemins de fichiers à traiter\n",
    "file_paths = [\n",
    "    \"/Users/zhengruixing/Desktop/APPOLINAIRE_Caligrammes.txt\",\n",
    "    \"/Users/zhengruixing/Desktop/DARBOUVILLE_Poesies-et-nouvelles.txt\",\n",
    "    \"/Users/zhengruixing/Desktop/DESBORDES-VALMORE_Poesies-1820.txt\",\n",
    "    \"/Users/zhengruixing/Desktop/HUGO_Contemplations-T2.txt\",\n",
    "    \"/Users/zhengruixing/Desktop/LOISEAU_Fleurs-d-avril.txt\",\n",
    "    \"/Users/zhengruixing/Desktop/NOAILLES_Derniers-vers.txt\",\n",
    "    \"/Users/zhengruixing/Desktop/RIMBAUD_Illuminations-et-Une-saison-en-enfer-et-Notice-Paul-Verlaine.txt\",\n",
    "    \"/Users/zhengruixing/Desktop/VERLAINE_Sagesse.txt\",\n",
    "    \"/Users/zhengruixing/Desktop/SAUVAGE_Tandis-que-la-terre-tourne.txt\",\n",
    "    \"/Users/zhengruixing/Desktop/VIVIEN_Etudes-et-preludes.txt\"\n",
    "]\n",
    "\n",
    "# Dossier de sortie pour enregistrer les résultats\n",
    "output_dir = \"/Users/zhengruixing/Desktop/output_results\"\n",
    "os.makedirs(output_dir, exist_ok=True)\n",
    "\n",
    "# List to store summary data for display\n",
    "summary_data = []\n",
    "\n",
    "# Traiter chaque fichier avec tqdm pour afficher la progression\n",
    "for path_fichier in tqdm(file_paths, desc=\"Traitement des fichiers\", unit=\"fichier\"):\n",
    "    start_time = time.time()  # 记录文件处理开始时间\n",
    "\n",
    "    # Extraire le nom du fichier sans le chemin\n",
    "    file_name = os.path.basename(path_fichier).replace(\".txt\", \"\")\n",
    "\n",
    "    # Lire le fichier texte\n",
    "    with open(path_fichier, \"r\", encoding=\"utf-8\") as f:\n",
    "        texte = f.read().strip()\n",
    "\n",
    "    # Tokenisation des mots\n",
    "    words = nltk.word_tokenize(texte)\n",
    "\n",
    "    # Appliquer le NER de Stanford pour extraire les entités nommées\n",
    "    ner_results = ner_tagger.tag(words)\n",
    "\n",
    "    # Listes pour stocker les entités nommées et les mots candidats\n",
    "    liste_entitesnom = []  \n",
    "    liste_mots = []  \n",
    "\n",
    "    for word, tag in ner_results:\n",
    "        if tag != \"O\":  # Si l'étiquette n'est pas \"O\" (aucune entité trouvée)\n",
    "            liste_entitesnom.append({\"mot\": word, \"type\": tag})  # Ajouter l'entité\n",
    "        else:\n",
    "            liste_mots.append(word)  # Ajouter le mot candidat (non étiqueté comme entité)\n",
    "\n",
    "    # Sauvegarder les résultats (entités et mots candidats) dans un fichier JSON\n",
    "    output_data = {\n",
    "        \"entites_nom\": liste_entitesnom,\n",
    "        \"mots_candidats\": liste_mots\n",
    "    }\n",
    "\n",
    "    # Chemin du fichier JSON pour chaque fichier de texte\n",
    "    json_file_path = os.path.join(output_dir, f\"{file_name}_standford_entites_candidats.json\")\n",
    "    with open(json_file_path, \"w\", encoding=\"utf-8\") as json_file:\n",
    "        json.dump(output_data, json_file, indent=4, ensure_ascii=False)\n",
    "\n",
    "    # Afficher le nombre d'entités et de mots candidats dans la console\n",
    "    print(f\"Fichier : {file_name}\")\n",
    "    print(f\"  Entités   : {len(liste_entitesnom)}\")\n",
    "    print(f\"  Candidats : {len(liste_mots)}\")\n",
    "    print(\"-\" * 20)\n",
    "    \n",
    "    # Afficher les 20 premières entités et les 20 premiers mots candidats\n",
    "    print(f\"  20 premières entités : {liste_entitesnom[:20]}\")\n",
    "    print(f\"  20 premiers candidats : {liste_mots[:20]}\")\n",
    "    print(\"=\" * 40)\n",
    "\n",
    "    # Sauvegarder les entités et les mots candidats dans des fichiers texte\n",
    "    with open(os.path.join(output_dir, f\"{file_name}_standford_entites.txt\"), \"w\", encoding=\"utf-8\") as entites_file:\n",
    "        for entite in liste_entitesnom:\n",
    "            entites_file.write(f\"{entite['mot']} - {entite['type']}\\n\")\n",
    "    \n",
    "    with open(os.path.join(output_dir, f\"{file_name}_standford_candidats.txt\"), \"w\", encoding=\"utf-8\") as candidats_file:\n",
    "        for mot in liste_mots:\n",
    "            candidats_file.write(f\"{mot}\\n\")\n",
    "\n",
    "    # Ajouter les données de résumé pour chaque fichier dans la liste\n",
    "    summary_data.append({\n",
    "        \"Fichier\": file_name,\n",
    "        \"Entites_Nom\": len(liste_entitesnom),\n",
    "        \"Mots_Candidats\": len(liste_mots),\n",
    "        \"Temps_Procédé (s)\": round(time.time() - start_time, 2)  # 计算每个文件的处理时间（秒）\n",
    "    })\n",
    "\n",
    "# Convertir les données de résumé en DataFrame\n",
    "summary_df = pd.DataFrame(summary_data)\n",
    "\n",
    "# Afficher le tableau résumé directement dans la console\n",
    "print(\"\\nRésumé des résultats des fichiers traités :\\n\")\n",
    "print(summary_df)\n",
    "\n",
    "# Afficher un message une fois que tous les fichiers ont été traités\n",
    "print(\"\\nTraitement terminé pour tous les fichiers.\")\n"
   ]
  },
  {
   "cell_type": "code",
   "execution_count": null,
   "id": "049810f8-ef18-4715-bab2-e12457b9e437",
   "metadata": {},
   "outputs": [],
   "source": []
  }
 ],
 "metadata": {
  "kernelspec": {
   "display_name": "Python 3 (ipykernel)",
   "language": "python",
   "name": "python3"
  },
  "language_info": {
   "codemirror_mode": {
    "name": "ipython",
    "version": 3
   },
   "file_extension": ".py",
   "mimetype": "text/x-python",
   "name": "python",
   "nbconvert_exporter": "python",
   "pygments_lexer": "ipython3",
   "version": "3.12.4"
  }
 },
 "nbformat": 4,
 "nbformat_minor": 5
}
